{
 "cells": [
  {
   "cell_type": "code",
   "execution_count": 2,
   "metadata": {},
   "outputs": [
    {
     "name": "stdout",
     "output_type": "stream",
     "text": [
      "[6, 5, 7, 1, 9, 2]\n",
      "[36, 25, 49, 1, 81, 4]\n"
     ]
    }
   ],
   "source": [
    "data = [6,5,7,1,9,2]\n",
    "\n",
    "def square(data):\n",
    "    return [value*value for value in data]\n",
    "\n",
    "print(data)\n",
    "print(square(data))\n"
   ]
  },
  {
   "cell_type": "code",
   "execution_count": 4,
   "metadata": {},
   "outputs": [
    {
     "name": "stdout",
     "output_type": "stream",
     "text": [
      "[0.04742587317756678, 0.9933071490757153, 0.8807970779778823, 0.7310585786300049, 0.5]\n"
     ]
    }
   ],
   "source": [
    "import math\n",
    "\n",
    "# sigmoid function\n",
    "def sigmoid(x):\n",
    "    result = 1 / (1 + math.exp(-x))\n",
    "    return result\n",
    "\n",
    "data = [-3,5,2,1,0]\n",
    "def listComprehensionEx1(data):\n",
    "    return [sigmoid(value) for value in data]\n",
    "\n",
    "print(listComprehensionEx1(data))"
   ]
  }
 ],
 "metadata": {
  "interpreter": {
   "hash": "8cac783c40538868f1a91ea51d8c19d01f3bffb416664ae6cfaa5179ecd90669"
  },
  "kernelspec": {
   "display_name": "Python 3.9.11 ('aio_2022_dev_env_39')",
   "language": "python",
   "name": "python3"
  },
  "language_info": {
   "codemirror_mode": {
    "name": "ipython",
    "version": 3
   },
   "file_extension": ".py",
   "mimetype": "text/x-python",
   "name": "python",
   "nbconvert_exporter": "python",
   "pygments_lexer": "ipython3",
   "version": "3.9.11"
  },
  "orig_nbformat": 4
 },
 "nbformat": 4,
 "nbformat_minor": 2
}
