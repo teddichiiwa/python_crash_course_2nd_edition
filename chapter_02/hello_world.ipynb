{
 "cells": [
  {
   "cell_type": "markdown",
   "metadata": {},
   "source": [
    "# My first Notebook"
   ]
  },
  {
   "cell_type": "code",
   "execution_count": 1,
   "metadata": {},
   "outputs": [
    {
     "name": "stdout",
     "output_type": "stream",
     "text": [
      "Hello world from jupyter notebook!\n"
     ]
    }
   ],
   "source": [
    "message = \"Hello world from jupyter notebook!\"\n",
    "print(message)"
   ]
  },
  {
   "cell_type": "code",
   "execution_count": 2,
   "metadata": {},
   "outputs": [
    {
     "name": "stdout",
     "output_type": "stream",
     "text": [
      "Hello AIO 2022\n"
     ]
    }
   ],
   "source": [
    "message = \"Hello AIO 2022\"\n",
    "print(message)"
   ]
  }
 ],
 "metadata": {
  "interpreter": {
   "hash": "8cac783c40538868f1a91ea51d8c19d01f3bffb416664ae6cfaa5179ecd90669"
  },
  "kernelspec": {
   "display_name": "Python 3.9.11 ('aio_2022_dev_env_39')",
   "language": "python",
   "name": "python3"
  },
  "language_info": {
   "codemirror_mode": {
    "name": "ipython",
    "version": 3
   },
   "file_extension": ".py",
   "mimetype": "text/x-python",
   "name": "python",
   "nbconvert_exporter": "python",
   "pygments_lexer": "ipython3",
   "version": "3.9.11"
  },
  "orig_nbformat": 4
 },
 "nbformat": 4,
 "nbformat_minor": 2
}
